{
  "cells": [
    {
      "cell_type": "markdown",
      "metadata": {},
      "source": [
        "<a target=\"_blank\" href=\"https://colab.research.google.com/github/vnghia/5ma-hddl/blob/main/objectness.ipynb\">\n",
        "  <img src=\"https://colab.research.google.com/assets/colab-badge.svg\" alt=\"Open In Colab\"/>\n",
        "</a>\n"
      ]
    },
    {
      "cell_type": "code",
      "execution_count": null,
      "metadata": {
        "colab": {
          "base_uri": "https://localhost:8080/"
        },
        "id": "Ne1Mllg2l5rH",
        "outputId": "db3e31fe-c3b8-4242-8576-8ed51fb9afee"
      },
      "outputs": [],
      "source": [
        "!pip install -q git+https://github.com/facebookresearch/detectron2@95a87b8dd359014d1ff81fe14f539dd279bcbe4b"
      ]
    },
    {
      "cell_type": "code",
      "execution_count": null,
      "metadata": {
        "id": "lVhyFHJDe3pF"
      },
      "outputs": [],
      "source": [
        "import detectron2\n",
        "from detectron2.utils.logger import setup_logger\n",
        "setup_logger()\n",
        "%matplotlib inline\n",
        "from detectron2 import model_zoo\n",
        "from detectron2.engine import DefaultPredictor\n",
        "from detectron2.config import get_cfg\n",
        "from detectron2.utils.visualizer import Visualizer\n",
        "from detectron2.data import MetadataCatalog, DatasetCatalog\n",
        "from detectron2.structures import BoxMode\n",
        "from detectron2.modeling.proposal_generator.rpn import StandardRPNHead"
      ]
    },
    {
      "cell_type": "code",
      "execution_count": null,
      "metadata": {
        "id": "BlgT_56bg0qt"
      },
      "outputs": [],
      "source": [
        "import numpy as np\n",
        "import os, json, cv2, random, functools\n",
        "import matplotlib.pyplot as plt"
      ]
    },
    {
      "cell_type": "code",
      "execution_count": null,
      "metadata": {
        "id": "ctN592D_g1GS"
      },
      "outputs": [],
      "source": [
        "import torch\n",
        "import torchvision"
      ]
    },
    {
      "cell_type": "code",
      "execution_count": null,
      "metadata": {
        "id": "jAtSPr9pwB8a"
      },
      "outputs": [],
      "source": [
        "objectness = []\n",
        "def forward_with_objectness(self, features):\n",
        "    objectness.clear()\n",
        "    pred_objectness_logits = []\n",
        "    pred_anchor_deltas = []\n",
        "    for x in features:\n",
        "        t = self.conv(x)\n",
        "        pred_objectness_logits.append(self.objectness_logits(t))\n",
        "        pred_anchor_deltas.append(self.anchor_deltas(t))\n",
        "        o = pred_objectness_logits[-1].sigmoid() * 255\n",
        "        o = o.cpu().detach().numpy()[0, 1]\n",
        "        objectness.append(o)\n",
        "    return pred_objectness_logits, pred_anchor_deltas"
      ]
    },
    {
      "cell_type": "code",
      "execution_count": null,
      "metadata": {
        "id": "va965AdswUmZ"
      },
      "outputs": [],
      "source": [
        "StandardRPNHead.forward = forward_with_objectness "
      ]
    },
    {
      "cell_type": "code",
      "execution_count": null,
      "metadata": {
        "id": "L-3Lm8Gjg5g4"
      },
      "outputs": [],
      "source": [
        "cfg = model_zoo.get_config(\"COCO-Detection/rpn_R_50_FPN_1x.yaml\", True)"
      ]
    },
    {
      "cell_type": "code",
      "execution_count": null,
      "metadata": {
        "colab": {
          "base_uri": "https://localhost:8080/"
        },
        "id": "IkNCc92nhNKT",
        "outputId": "7476e615-203c-497c-dc9f-899b00f867a8"
      },
      "outputs": [],
      "source": [
        "predictor = DefaultPredictor(cfg)"
      ]
    },
    {
      "cell_type": "code",
      "execution_count": null,
      "metadata": {
        "colab": {
          "base_uri": "https://localhost:8080/"
        },
        "id": "SxiClzg23IQV",
        "outputId": "ad4c5571-3bd3-4711-c1f4-892cc263e6f0"
      },
      "outputs": [],
      "source": [
        "!wget https://www.reidsengland.com/site/assets/files/2315/routemaster-new-st-pauls.jpg -O image.jpg"
      ]
    },
    {
      "cell_type": "code",
      "execution_count": null,
      "metadata": {
        "colab": {
          "base_uri": "https://localhost:8080/",
          "height": 477
        },
        "id": "VKVaMdymhR03",
        "outputId": "e1381952-65cc-4cbc-ad49-2e93d3bad468"
      },
      "outputs": [],
      "source": [
        "im = cv2.imread(\"./image.jpg\")\n",
        "plt.figure(figsize=(15,7.5))\n",
        "plt.imshow(im[..., ::-1])"
      ]
    },
    {
      "cell_type": "code",
      "execution_count": null,
      "metadata": {
        "id": "y2x9a1Inh5xk"
      },
      "outputs": [],
      "source": [
        "outputs = predictor(im[..., ::-1])"
      ]
    },
    {
      "cell_type": "code",
      "execution_count": null,
      "metadata": {
        "colab": {
          "base_uri": "https://localhost:8080/",
          "height": 418
        },
        "id": "gcdz4t1PzLlE",
        "outputId": "ef1a4105-538a-4257-e32c-ce81a70373e7"
      },
      "outputs": [],
      "source": [
        "import matplotlib.pyplot as plt\n",
        "import cv2\n",
        "imgs = []\n",
        "\n",
        "h_out, w_out, _ = im.shape\n",
        "\n",
        "imgs.append(cv2.imread('image.jpg'))\n",
        "for i in range(5):  # five levels\n",
        "    heatmap = np.asarray(cv2.resize(objectness[i], (w_out, h_out), fx=0, fy=0, interpolation = cv2.INTER_NEAREST), dtype=np.uint8)\n",
        "    heatmap = cv2.applyColorMap(heatmap, cv2.COLORMAP_JET)\n",
        "    imgs.append(imgs[0] // 2 + heatmap // 2)  # blending\n",
        "fig = plt.figure(figsize=(16, 7))\n",
        "for i, img in enumerate(imgs):\n",
        "    fig.add_subplot(2, 3, i + 1)\n",
        "    if i > 0:\n",
        "        plt.imshow(img[0:-1, :, ::-1])  # ::-1 removes the edge\n",
        "        plt.title(\"objectness on P\" + str(i + 1))\n",
        "    else:\n",
        "        plt.imshow(img[:, :, ::-1])\n",
        "        plt.title(\"input image\")\n",
        "plt.show()"
      ]
    }
  ],
  "metadata": {
    "accelerator": "GPU",
    "colab": {
      "provenance": []
    },
    "kernelspec": {
      "display_name": "efdet",
      "language": "python",
      "name": "python3"
    },
    "language_info": {
      "codemirror_mode": {
        "name": "ipython",
        "version": 3
      },
      "file_extension": ".py",
      "mimetype": "text/x-python",
      "name": "python",
      "nbconvert_exporter": "python",
      "pygments_lexer": "ipython3",
      "version": "3.10.9"
    },
    "vscode": {
      "interpreter": {
        "hash": "1d124e3f952bb262f11fa04d94df3afb837b88702e32849781fe8cce00998cc1"
      }
    }
  },
  "nbformat": 4,
  "nbformat_minor": 0
}
